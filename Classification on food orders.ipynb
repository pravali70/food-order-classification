{
 "cells": [
  {
   "cell_type": "markdown",
   "id": "4bac72ab-b1c5-4f36-86c3-420d4d123bb0",
   "metadata": {},
   "source": [
    "📝 Project: Classification on Food Orders Dataset\n",
    "In this project, we work with a real-world dataset related to customer food ordering behavior. The dataset contains demographic and behavioral information such as gender, marital status, occupation, income, education, family size, location (latitude & longitude), and user feedback. The target variable, Output, indicates whether or not a customer placed a food order.\n",
    "\n",
    "Our goal is to build a machine learning pipeline—from data exploration and preprocessing to model building and evaluation—to classify whether a customer is likely to place a food order."
   ]
  },
  {
   "cell_type": "markdown",
   "id": "01ee79df-631a-4c32-b679-4d40013ccb9d",
   "metadata": {},
   "source": [
    "🎯 Objective\n",
    "The main objective is to build and compare the performance of multiple machine learning models to accurately predict the food order status (Order or No Order). This classification helps food delivery platforms better understand customer behavior and design targeted marketing and service strategies.\n",
    "\n",
    "🤖 Models Evaluated\n",
    "- Logistic Regression\n",
    "\n",
    "- Naive Bayes\n",
    "\n",
    "- Decision Tree\n",
    "\n",
    "- Random Forest\n",
    "\n",
    "- AdaBoost\n",
    "\n",
    "- XGBoost\n",
    "\n",
    "- ANN\n",
    "\n",
    "- SVM\n",
    "\n",
    "To evaluate model performance, we use the following metrics:\n",
    "\n",
    "- Accuracy – Overall correctness of the model\n",
    "\n",
    "- Precision – How many predicted \"orders\" were actually correct\n",
    "\n",
    "- Recall – How many actual \"orders\" were correctly identified\n",
    "\n",
    "- F1 Score – Harmonic mean of precision and recall\n",
    "\n",
    "- Confusion Matrix – Visual summary of prediction performance\n",
    "\n"
   ]
  },
  {
   "cell_type": "markdown",
   "id": "fe7c45a7-547b-4a0c-99fa-a3695cb907d6",
   "metadata": {},
   "source": [
    "Outcome\n",
    "- By comparing these metrics across different models, we aim to:\n",
    "\n",
    "- Select the best-performing model for classifying food orders\n",
    "\n",
    "- Provide actionable insights to improve customer targeting, delivery efficiency, and marketing efforts\n",
    "\n",
    "- Help businesses optimize operations based on predictive insights into user behavior"
   ]
  },
  {
   "cell_type": "code",
   "execution_count": 6,
   "id": "6f363c70-82d0-4719-beaa-772fd1c2c520",
   "metadata": {},
   "outputs": [],
   "source": [
    "import pandas as pd\n",
    "import numpy as np"
   ]
  },
  {
   "cell_type": "code",
   "execution_count": 7,
   "id": "4fcf36a4-23e3-4384-9e1e-a6ca84e8dc5f",
   "metadata": {},
   "outputs": [],
   "source": [
    "data=pd.read_csv(\"/Users/pravaliparvataneni/Desktop/sudents and projects/S6/Classification/Dataset (1).csv\")"
   ]
  },
  {
   "cell_type": "code",
   "execution_count": 4,
   "id": "efe858ea-0af3-4f78-aef4-bd443e9a6c10",
   "metadata": {},
   "outputs": [
    {
     "data": {
      "text/html": [
       "<div>\n",
       "<style scoped>\n",
       "    .dataframe tbody tr th:only-of-type {\n",
       "        vertical-align: middle;\n",
       "    }\n",
       "\n",
       "    .dataframe tbody tr th {\n",
       "        vertical-align: top;\n",
       "    }\n",
       "\n",
       "    .dataframe thead th {\n",
       "        text-align: right;\n",
       "    }\n",
       "</style>\n",
       "<table border=\"1\" class=\"dataframe\">\n",
       "  <thead>\n",
       "    <tr style=\"text-align: right;\">\n",
       "      <th></th>\n",
       "      <th>Age</th>\n",
       "      <th>Gender</th>\n",
       "      <th>Marital Status</th>\n",
       "      <th>Occupation</th>\n",
       "      <th>Monthly Income</th>\n",
       "      <th>Educational Qualifications</th>\n",
       "      <th>Family size</th>\n",
       "      <th>latitude</th>\n",
       "      <th>longitude</th>\n",
       "      <th>Pin code</th>\n",
       "      <th>Output</th>\n",
       "      <th>Feedback</th>\n",
       "      <th>Unnamed: 12</th>\n",
       "    </tr>\n",
       "  </thead>\n",
       "  <tbody>\n",
       "    <tr>\n",
       "      <th>0</th>\n",
       "      <td>20</td>\n",
       "      <td>Female</td>\n",
       "      <td>Single</td>\n",
       "      <td>Student</td>\n",
       "      <td>No Income</td>\n",
       "      <td>Post Graduate</td>\n",
       "      <td>4</td>\n",
       "      <td>12.9766</td>\n",
       "      <td>77.5993</td>\n",
       "      <td>560001</td>\n",
       "      <td>Yes</td>\n",
       "      <td>Positive</td>\n",
       "      <td>Yes</td>\n",
       "    </tr>\n",
       "    <tr>\n",
       "      <th>1</th>\n",
       "      <td>24</td>\n",
       "      <td>Female</td>\n",
       "      <td>Single</td>\n",
       "      <td>Student</td>\n",
       "      <td>Below Rs.10000</td>\n",
       "      <td>Graduate</td>\n",
       "      <td>3</td>\n",
       "      <td>12.9770</td>\n",
       "      <td>77.5773</td>\n",
       "      <td>560009</td>\n",
       "      <td>Yes</td>\n",
       "      <td>Positive</td>\n",
       "      <td>Yes</td>\n",
       "    </tr>\n",
       "    <tr>\n",
       "      <th>2</th>\n",
       "      <td>22</td>\n",
       "      <td>Male</td>\n",
       "      <td>Single</td>\n",
       "      <td>Student</td>\n",
       "      <td>Below Rs.10000</td>\n",
       "      <td>Post Graduate</td>\n",
       "      <td>3</td>\n",
       "      <td>12.9551</td>\n",
       "      <td>77.6593</td>\n",
       "      <td>560017</td>\n",
       "      <td>Yes</td>\n",
       "      <td>Negative</td>\n",
       "      <td>Yes</td>\n",
       "    </tr>\n",
       "    <tr>\n",
       "      <th>3</th>\n",
       "      <td>22</td>\n",
       "      <td>Female</td>\n",
       "      <td>Single</td>\n",
       "      <td>Student</td>\n",
       "      <td>No Income</td>\n",
       "      <td>Graduate</td>\n",
       "      <td>6</td>\n",
       "      <td>12.9473</td>\n",
       "      <td>77.5616</td>\n",
       "      <td>560019</td>\n",
       "      <td>Yes</td>\n",
       "      <td>Positive</td>\n",
       "      <td>Yes</td>\n",
       "    </tr>\n",
       "    <tr>\n",
       "      <th>4</th>\n",
       "      <td>22</td>\n",
       "      <td>Male</td>\n",
       "      <td>Single</td>\n",
       "      <td>Student</td>\n",
       "      <td>Below Rs.10000</td>\n",
       "      <td>Post Graduate</td>\n",
       "      <td>4</td>\n",
       "      <td>12.9850</td>\n",
       "      <td>77.5533</td>\n",
       "      <td>560010</td>\n",
       "      <td>Yes</td>\n",
       "      <td>Positive</td>\n",
       "      <td>Yes</td>\n",
       "    </tr>\n",
       "  </tbody>\n",
       "</table>\n",
       "</div>"
      ],
      "text/plain": [
       "   Age  Gender Marital Status Occupation  Monthly Income  \\\n",
       "0   20  Female         Single    Student       No Income   \n",
       "1   24  Female         Single    Student  Below Rs.10000   \n",
       "2   22    Male         Single    Student  Below Rs.10000   \n",
       "3   22  Female         Single    Student       No Income   \n",
       "4   22    Male         Single    Student  Below Rs.10000   \n",
       "\n",
       "  Educational Qualifications  Family size  latitude  longitude  Pin code  \\\n",
       "0              Post Graduate            4   12.9766    77.5993    560001   \n",
       "1                   Graduate            3   12.9770    77.5773    560009   \n",
       "2              Post Graduate            3   12.9551    77.6593    560017   \n",
       "3                   Graduate            6   12.9473    77.5616    560019   \n",
       "4              Post Graduate            4   12.9850    77.5533    560010   \n",
       "\n",
       "  Output   Feedback Unnamed: 12  \n",
       "0    Yes   Positive         Yes  \n",
       "1    Yes   Positive         Yes  \n",
       "2    Yes  Negative          Yes  \n",
       "3    Yes   Positive         Yes  \n",
       "4    Yes   Positive         Yes  "
      ]
     },
     "execution_count": 4,
     "metadata": {},
     "output_type": "execute_result"
    }
   ],
   "source": [
    "data.head()"
   ]
  },
  {
   "cell_type": "code",
   "execution_count": 5,
   "id": "c34181b1-570b-4dc3-a5cb-e2e6043f46fe",
   "metadata": {},
   "outputs": [
    {
     "data": {
      "text/plain": [
       "Age                           0\n",
       "Gender                        0\n",
       "Marital Status                0\n",
       "Occupation                    0\n",
       "Monthly Income                0\n",
       "Educational Qualifications    0\n",
       "Family size                   0\n",
       "latitude                      0\n",
       "longitude                     0\n",
       "Pin code                      0\n",
       "Output                        0\n",
       "Feedback                      0\n",
       "Unnamed: 12                   0\n",
       "dtype: int64"
      ]
     },
     "execution_count": 5,
     "metadata": {},
     "output_type": "execute_result"
    }
   ],
   "source": [
    "data.isna().sum()"
   ]
  },
  {
   "cell_type": "code",
   "execution_count": 6,
   "id": "cf284214-a173-47a1-a234-267832013aca",
   "metadata": {},
   "outputs": [
    {
     "name": "stdout",
     "output_type": "stream",
     "text": [
      "<class 'pandas.core.frame.DataFrame'>\n",
      "RangeIndex: 388 entries, 0 to 387\n",
      "Data columns (total 13 columns):\n",
      " #   Column                      Non-Null Count  Dtype  \n",
      "---  ------                      --------------  -----  \n",
      " 0   Age                         388 non-null    int64  \n",
      " 1   Gender                      388 non-null    object \n",
      " 2   Marital Status              388 non-null    object \n",
      " 3   Occupation                  388 non-null    object \n",
      " 4   Monthly Income              388 non-null    object \n",
      " 5   Educational Qualifications  388 non-null    object \n",
      " 6   Family size                 388 non-null    int64  \n",
      " 7   latitude                    388 non-null    float64\n",
      " 8   longitude                   388 non-null    float64\n",
      " 9   Pin code                    388 non-null    int64  \n",
      " 10  Output                      388 non-null    object \n",
      " 11  Feedback                    388 non-null    object \n",
      " 12  Unnamed: 12                 388 non-null    object \n",
      "dtypes: float64(2), int64(3), object(8)\n",
      "memory usage: 39.5+ KB\n"
     ]
    }
   ],
   "source": [
    "data.info()"
   ]
  },
  {
   "cell_type": "markdown",
   "id": "cbd1ae9c-0ace-48f5-b32d-cd4568f78e68",
   "metadata": {},
   "source": [
    "<h1>Data Analysis with Visualization</h1>"
   ]
  },
  {
   "cell_type": "code",
   "execution_count": 8,
   "id": "54f84c5f-0c17-44d4-9545-66043432b79b",
   "metadata": {},
   "outputs": [
    {
     "data": {
      "image/png": "[encoded data removed]",
      "text/plain": [
       "<Figure size 1200x600 with 1 Axes>"
      ]
     },
     "metadata": {},
     "output_type": "display_data"
    }
   ],
   "source": [
    "import matplotlib.pyplot as plt\n",
    "import seaborn as sns\n",
    "plt.figure(figsize=(12,6))\n",
    "sns.histplot(data['Age'], bins = 30, kde= True, color = 'blue')\n",
    "plt.title('Distribution of AGE in online food ordering!')\n",
    "plt.show()"
   ]
  },
  {
   "cell_type": "markdown",
   "id": "c0c47537-41cd-4522-9aef-1357109fbc14",
   "metadata": {},
   "source": [
    "People in 20s are ordering food more."
   ]
  },
  {
   "cell_type": "code",
   "execution_count": 12,
   "id": "0edd6a2d-4ee4-44bc-a29b-4a522a97360a",
   "metadata": {},
   "outputs": [
    {
     "name": "stderr",
     "output_type": "stream",
     "text": [
      "/var/folders/f8/mj2vjl493b1362dvk6tb7bvr0000gn/T/ipykernel_3944/2106257729.py:2: FutureWarning: \n",
      "\n",
      "Passing `palette` without assigning `hue` is deprecated and will be removed in v0.14.0. Assign the `x` variable to `hue` and set `legend=False` for the same effect.\n",
      "\n",
      "  ax = sns.countplot(data=data, x='Gender', palette='cool')\n"
     ]
    },
    {
     "data": {
      "image/png": "[encoded data removed]",
      "text/plain": [
       "<Figure size 1200x600 with 1 Axes>"
      ]
     },
     "metadata": {},
     "output_type": "display_data"
    }
   ],
   "source": [
    "plt.figure(figsize=(12, 6))\n",
    "ax = sns.countplot(data=data, x='Gender', palette='cool')\n",
    "\n",
    "ax.set_ylim(0, 250) \n",
    "\n",
    "total = len(data)\n",
    "for p in ax.patches:\n",
    "    percentage = f'{100 * p.get_height() / total:.1f}%'\n",
    "    ax.annotate(percentage,\n",
    "                (p.get_x() + p.get_width() / 2., p.get_height() + 5),\n",
    "                ha='center', fontsize=12)\n",
    "\n",
    "plt.title(\"GENDER Distribution (%)\")\n",
    "plt.show()"
   ]
  },
  {
   "cell_type": "markdown",
   "id": "623f40e9-f5e9-48a2-a672-b2308786fdb4",
   "metadata": {},
   "source": [
    "male customers are 14.4% more than female customers"
   ]
  },
  {
   "cell_type": "code",
   "execution_count": 14,
   "id": "888bdfa9-0508-41b8-af57-bc5076c5e7dc",
   "metadata": {},
   "outputs": [
    {
     "data": {
      "image/png": "[encoded data removed]",
      "text/plain": [
       "<Figure size 1200x600 with 1 Axes>"
      ]
     },
     "metadata": {},
     "output_type": "display_data"
    }
   ],
   "source": [
    "plt.figure(figsize=(12,6))\n",
    "sns.histplot(data['Family size'], bins = 30, color = 'pink')\n",
    "plt.title('FAMILY SIZE  distribution of customers!')\n",
    "plt.show()\n"
   ]
  },
  {
   "cell_type": "markdown",
   "id": "3bc86ec7-2dc0-4e4b-9bc1-1c9ac1443115",
   "metadata": {},
   "source": [
    "Larger families are not ordering more. People with 2-3 family members tend to order more."
   ]
  },
  {
   "cell_type": "code",
   "execution_count": 16,
   "id": "464121b4-1702-4bae-91c8-e0bec8e9cbb6",
   "metadata": {},
   "outputs": [
    {
     "data": {
      "image/png": "[encoded data removed]",
      "text/plain": [
       "<Figure size 1200x600 with 1 Axes>"
      ]
     },
     "metadata": {},
     "output_type": "display_data"
    }
   ],
   "source": [
    "plt.figure(figsize=(12,6))\n",
    "sns.histplot(data['Marital Status'], bins = 30, color = 'lightblue')\n",
    "plt.title('MARITAL STATUS  distribution of customers!')\n",
    "plt.show()"
   ]
  },
  {
   "cell_type": "markdown",
   "id": "c3575a50-9db6-4dee-9434-2a8e30ba5192",
   "metadata": {},
   "source": [
    "Singles tend to order more than married customers."
   ]
  },
  {
   "cell_type": "code",
   "execution_count": 17,
   "id": "01d8e1a0-7a80-4544-8a5e-c9c80ec3ccef",
   "metadata": {},
   "outputs": [
    {
     "data": {
      "image/png": "[encoded data removed]",
      "text/plain": [
       "<Figure size 1200x600 with 1 Axes>"
      ]
     },
     "metadata": {},
     "output_type": "display_data"
    }
   ],
   "source": [
    "plt.figure(figsize=(12,6))\n",
    "sns.countplot(data=data, x='Occupation', hue='Feedback', palette = 'cool')\n",
    "plt.title(\"Feedback vs Occupation\")\n",
    "plt.legend(title=\"Feedback\")\n",
    "plt.show()"
   ]
  },
  {
   "cell_type": "markdown",
   "id": "12443886-82ca-48a4-9044-0b25af6ec39a",
   "metadata": {},
   "source": [
    "it is shown that, students contributed the highest volume of feedback, with a strong skew towards positive responses. employees"
   ]
  },
  {
   "cell_type": "code",
   "execution_count": 20,
   "id": "d81512eb-c0d6-4e3c-9d63-4d256be96ff8",
   "metadata": {},
   "outputs": [
    {
     "data": {
      "image/png": "[encoded data removed]",
      "text/plain": [
       "<Figure size 1200x600 with 1 Axes>"
      ]
     },
     "metadata": {},
     "output_type": "display_data"
    }
   ],
   "source": [
    "plt.figure(figsize=(12,6))\n",
    "sns.scatterplot(data=data, x='Age', y = 'Family size', hue = 'Feedback', style = 'Gender')\n",
    "plt.title('family-size and age with feedback -- gender')\n",
    "plt.show()"
   ]
  },
  {
   "cell_type": "markdown",
   "id": "6f07b96c-489d-4a54-8d09-f335b8bebb73",
   "metadata": {},
   "source": [
    "Most of negative feedback are given by people late in 20s or with higher family size"
   ]
  },
  {
   "cell_type": "code",
   "execution_count": 7,
   "id": "d0893186-2391-4b8a-94d7-de324c2d29f9",
   "metadata": {},
   "outputs": [],
   "source": [
    "#Label encoding\n",
    "from sklearn.preprocessing import LabelEncoder\n",
    "\n",
    "le = LabelEncoder()\n",
    "\n",
    "# Apply label encoding to all relevant categorical columns\n",
    "for col in ['Gender', 'Marital Status', 'Occupation', 'Monthly Income', 'Educational Qualifications', 'Output', 'Feedback']:\n",
    "    data[col] = le.fit_transform(data[col])\n"
   ]
  },
  {
   "cell_type": "code",
   "execution_count": 8,
   "id": "6dc01796-5975-4727-a4ce-4be417018a03",
   "metadata": {},
   "outputs": [],
   "source": [
    "data = data.drop('Unnamed: 12', axis=1)"
   ]
  },
  {
   "cell_type": "code",
   "execution_count": 9,
   "id": "168f62ac-cbe6-4a6c-b72f-246a0362cfeb",
   "metadata": {},
   "outputs": [
    {
     "data": {
      "text/html": [
       "<div>\n",
       "<style scoped>\n",
       "    .dataframe tbody tr th:only-of-type {\n",
       "        vertical-align: middle;\n",
       "    }\n",
       "\n",
       "    .dataframe tbody tr th {\n",
       "        vertical-align: top;\n",
       "    }\n",
       "\n",
       "    .dataframe thead th {\n",
       "        text-align: right;\n",
       "    }\n",
       "</style>\n",
       "<table border=\"1\" class=\"dataframe\">\n",
       "  <thead>\n",
       "    <tr style=\"text-align: right;\">\n",
       "      <th></th>\n",
       "      <th>Age</th>\n",
       "      <th>Gender</th>\n",
       "      <th>Marital Status</th>\n",
       "      <th>Occupation</th>\n",
       "      <th>Monthly Income</th>\n",
       "      <th>Educational Qualifications</th>\n",
       "      <th>Family size</th>\n",
       "      <th>latitude</th>\n",
       "      <th>longitude</th>\n",
       "      <th>Pin code</th>\n",
       "      <th>Output</th>\n",
       "      <th>Feedback</th>\n",
       "    </tr>\n",
       "  </thead>\n",
       "  <tbody>\n",
       "    <tr>\n",
       "      <th>0</th>\n",
       "      <td>20</td>\n",
       "      <td>0</td>\n",
       "      <td>2</td>\n",
       "      <td>3</td>\n",
       "      <td>4</td>\n",
       "      <td>2</td>\n",
       "      <td>4</td>\n",
       "      <td>12.9766</td>\n",
       "      <td>77.5993</td>\n",
       "      <td>560001</td>\n",
       "      <td>1</td>\n",
       "      <td>1</td>\n",
       "    </tr>\n",
       "    <tr>\n",
       "      <th>1</th>\n",
       "      <td>24</td>\n",
       "      <td>0</td>\n",
       "      <td>2</td>\n",
       "      <td>3</td>\n",
       "      <td>2</td>\n",
       "      <td>0</td>\n",
       "      <td>3</td>\n",
       "      <td>12.9770</td>\n",
       "      <td>77.5773</td>\n",
       "      <td>560009</td>\n",
       "      <td>1</td>\n",
       "      <td>1</td>\n",
       "    </tr>\n",
       "    <tr>\n",
       "      <th>2</th>\n",
       "      <td>22</td>\n",
       "      <td>1</td>\n",
       "      <td>2</td>\n",
       "      <td>3</td>\n",
       "      <td>2</td>\n",
       "      <td>2</td>\n",
       "      <td>3</td>\n",
       "      <td>12.9551</td>\n",
       "      <td>77.6593</td>\n",
       "      <td>560017</td>\n",
       "      <td>1</td>\n",
       "      <td>0</td>\n",
       "    </tr>\n",
       "    <tr>\n",
       "      <th>3</th>\n",
       "      <td>22</td>\n",
       "      <td>0</td>\n",
       "      <td>2</td>\n",
       "      <td>3</td>\n",
       "      <td>4</td>\n",
       "      <td>0</td>\n",
       "      <td>6</td>\n",
       "      <td>12.9473</td>\n",
       "      <td>77.5616</td>\n",
       "      <td>560019</td>\n",
       "      <td>1</td>\n",
       "      <td>1</td>\n",
       "    </tr>\n",
       "    <tr>\n",
       "      <th>4</th>\n",
       "      <td>22</td>\n",
       "      <td>1</td>\n",
       "      <td>2</td>\n",
       "      <td>3</td>\n",
       "      <td>2</td>\n",
       "      <td>2</td>\n",
       "      <td>4</td>\n",
       "      <td>12.9850</td>\n",
       "      <td>77.5533</td>\n",
       "      <td>560010</td>\n",
       "      <td>1</td>\n",
       "      <td>1</td>\n",
       "    </tr>\n",
       "    <tr>\n",
       "      <th>...</th>\n",
       "      <td>...</td>\n",
       "      <td>...</td>\n",
       "      <td>...</td>\n",
       "      <td>...</td>\n",
       "      <td>...</td>\n",
       "      <td>...</td>\n",
       "      <td>...</td>\n",
       "      <td>...</td>\n",
       "      <td>...</td>\n",
       "      <td>...</td>\n",
       "      <td>...</td>\n",
       "      <td>...</td>\n",
       "    </tr>\n",
       "    <tr>\n",
       "      <th>383</th>\n",
       "      <td>23</td>\n",
       "      <td>0</td>\n",
       "      <td>2</td>\n",
       "      <td>3</td>\n",
       "      <td>4</td>\n",
       "      <td>2</td>\n",
       "      <td>2</td>\n",
       "      <td>12.9766</td>\n",
       "      <td>77.5993</td>\n",
       "      <td>560001</td>\n",
       "      <td>1</td>\n",
       "      <td>1</td>\n",
       "    </tr>\n",
       "    <tr>\n",
       "      <th>384</th>\n",
       "      <td>23</td>\n",
       "      <td>0</td>\n",
       "      <td>2</td>\n",
       "      <td>3</td>\n",
       "      <td>4</td>\n",
       "      <td>2</td>\n",
       "      <td>4</td>\n",
       "      <td>12.9854</td>\n",
       "      <td>77.7081</td>\n",
       "      <td>560048</td>\n",
       "      <td>1</td>\n",
       "      <td>1</td>\n",
       "    </tr>\n",
       "    <tr>\n",
       "      <th>385</th>\n",
       "      <td>22</td>\n",
       "      <td>0</td>\n",
       "      <td>2</td>\n",
       "      <td>3</td>\n",
       "      <td>4</td>\n",
       "      <td>2</td>\n",
       "      <td>5</td>\n",
       "      <td>12.9850</td>\n",
       "      <td>77.5533</td>\n",
       "      <td>560010</td>\n",
       "      <td>1</td>\n",
       "      <td>1</td>\n",
       "    </tr>\n",
       "    <tr>\n",
       "      <th>386</th>\n",
       "      <td>23</td>\n",
       "      <td>1</td>\n",
       "      <td>2</td>\n",
       "      <td>3</td>\n",
       "      <td>2</td>\n",
       "      <td>2</td>\n",
       "      <td>2</td>\n",
       "      <td>12.9770</td>\n",
       "      <td>77.5773</td>\n",
       "      <td>560009</td>\n",
       "      <td>1</td>\n",
       "      <td>1</td>\n",
       "    </tr>\n",
       "    <tr>\n",
       "      <th>387</th>\n",
       "      <td>23</td>\n",
       "      <td>1</td>\n",
       "      <td>2</td>\n",
       "      <td>3</td>\n",
       "      <td>4</td>\n",
       "      <td>2</td>\n",
       "      <td>5</td>\n",
       "      <td>12.8988</td>\n",
       "      <td>77.5764</td>\n",
       "      <td>560078</td>\n",
       "      <td>1</td>\n",
       "      <td>1</td>\n",
       "    </tr>\n",
       "  </tbody>\n",
       "</table>\n",
       "<p>388 rows × 12 columns</p>\n",
       "</div>"
      ],
      "text/plain": [
       "     Age  Gender  Marital Status  Occupation  Monthly Income  \\\n",
       "0     20       0               2           3               4   \n",
       "1     24       0               2           3               2   \n",
       "2     22       1               2           3               2   \n",
       "3     22       0               2           3               4   \n",
       "4     22       1               2           3               2   \n",
       "..   ...     ...             ...         ...             ...   \n",
       "383   23       0               2           3               4   \n",
       "384   23       0               2           3               4   \n",
       "385   22       0               2           3               4   \n",
       "386   23       1               2           3               2   \n",
       "387   23       1               2           3               4   \n",
       "\n",
       "     Educational Qualifications  Family size  latitude  longitude  Pin code  \\\n",
       "0                             2            4   12.9766    77.5993    560001   \n",
       "1                             0            3   12.9770    77.5773    560009   \n",
       "2                             2            3   12.9551    77.6593    560017   \n",
       "3                             0            6   12.9473    77.5616    560019   \n",
       "4                             2            4   12.9850    77.5533    560010   \n",
       "..                          ...          ...       ...        ...       ...   \n",
       "383                           2            2   12.9766    77.5993    560001   \n",
       "384                           2            4   12.9854    77.7081    560048   \n",
       "385                           2            5   12.9850    77.5533    560010   \n",
       "386                           2            2   12.9770    77.5773    560009   \n",
       "387                           2            5   12.8988    77.5764    560078   \n",
       "\n",
       "     Output  Feedback  \n",
       "0         1         1  \n",
       "1         1         1  \n",
       "2         1         0  \n",
       "3         1         1  \n",
       "4         1         1  \n",
       "..      ...       ...  \n",
       "383       1         1  \n",
       "384       1         1  \n",
       "385       1         1  \n",
       "386       1         1  \n",
       "387       1         1  \n",
       "\n",
       "[388 rows x 12 columns]"
      ]
     },
     "execution_count": 9,
     "metadata": {},
     "output_type": "execute_result"
    }
   ],
   "source": [
    "data"
   ]
  },
  {
   "cell_type": "code",
   "execution_count": 10,
   "id": "df99629d-1313-4867-8160-d8ff26911fd7",
   "metadata": {},
   "outputs": [],
   "source": [
    "X=data.drop('Output',axis=1)\n",
    "y=data['Output']"
   ]
  },
  {
   "cell_type": "code",
   "execution_count": 16,
   "id": "217cf167-dece-4be4-9e4e-6f31618ded7d",
   "metadata": {},
   "outputs": [],
   "source": [
    "from sklearn.model_selection import train_test_split\n",
    "X_train,X_test, y_train, y_test = train_test_split(X,y, test_size=0.2, \n",
    "                                                    random_state=42)"
   ]
  },
  {
   "cell_type": "code",
   "execution_count": 17,
   "id": "0b65131f-cedf-447c-af4a-8680210bf4a7",
   "metadata": {},
   "outputs": [
    {
     "name": "stdout",
     "output_type": "stream",
     "text": [
      "Shape of train dataset :  (310, 11)\n",
      "Shape of test dataset :  (78, 11)\n"
     ]
    }
   ],
   "source": [
    "print(\"Shape of train dataset : \", X_train.shape)\n",
    "print(\"Shape of test dataset : \", X_test.shape)"
   ]
  },
  {
   "cell_type": "markdown",
   "id": "005f4901-c473-40e3-bb39-4dee67622f72",
   "metadata": {},
   "source": [
    "# Logistic Regression"
   ]
  },
  {
   "cell_type": "code",
   "execution_count": 19,
   "id": "07b867c7-908c-4ee8-ad18-51559d080ecd",
   "metadata": {},
   "outputs": [
    {
     "name": "stdout",
     "output_type": "stream",
     "text": [
      "Logistic Regression Accuracy: 0.8589743589743589\n",
      "[[ 6  6]\n",
      " [ 5 61]]\n",
      "              precision    recall  f1-score   support\n",
      "\n",
      "           0       0.55      0.50      0.52        12\n",
      "           1       0.91      0.92      0.92        66\n",
      "\n",
      "    accuracy                           0.86        78\n",
      "   macro avg       0.73      0.71      0.72        78\n",
      "weighted avg       0.85      0.86      0.86        78\n",
      "\n"
     ]
    }
   ],
   "source": [
    "from sklearn.linear_model import LogisticRegression\n",
    "from sklearn.metrics import accuracy_score, confusion_matrix, classification_report\n",
    "\n",
    "lr = LogisticRegression(max_iter=1000)\n",
    "lr.fit(X_train, y_train)\n",
    "y_pred_lr = lr.predict(X_test)\n",
    "\n",
    "print(\"Logistic Regression Accuracy:\", accuracy_score(y_test, y_pred_lr))\n",
    "print(confusion_matrix(y_test, y_pred_lr))\n",
    "print(classification_report(y_test, y_pred_lr))"
   ]
  },
  {
   "cell_type": "markdown",
   "id": "40abde1e-d61b-486e-9d01-bb4b0ec41d5b",
   "metadata": {},
   "source": [
    "# KNN"
   ]
  },
  {
   "cell_type": "code",
   "execution_count": 20,
   "id": "43963670-9d31-409a-a5cb-8286280c7530",
   "metadata": {},
   "outputs": [
    {
     "name": "stdout",
     "output_type": "stream",
     "text": [
      "KNN Accuracy: 0.8974358974358975\n",
      "[[ 6  6]\n",
      " [ 2 64]]\n",
      "              precision    recall  f1-score   support\n",
      "\n",
      "           0       0.75      0.50      0.60        12\n",
      "           1       0.91      0.97      0.94        66\n",
      "\n",
      "    accuracy                           0.90        78\n",
      "   macro avg       0.83      0.73      0.77        78\n",
      "weighted avg       0.89      0.90      0.89        78\n",
      "\n"
     ]
    }
   ],
   "source": [
    "from sklearn.neighbors import KNeighborsClassifier\n",
    "\n",
    "knn = KNeighborsClassifier(n_neighbors=5)\n",
    "knn.fit(X_train, y_train)\n",
    "y_pred_knn = knn.predict(X_test)\n",
    "\n",
    "print(\"KNN Accuracy:\", accuracy_score(y_test, y_pred_knn))\n",
    "print(confusion_matrix(y_test, y_pred_knn))\n",
    "print(classification_report(y_test, y_pred_knn))"
   ]
  },
  {
   "cell_type": "markdown",
   "id": "a683d77b-bc84-491c-9a0d-704345fd3e23",
   "metadata": {},
   "source": [
    "# Naive Bayes"
   ]
  },
  {
   "cell_type": "code",
   "execution_count": 26,
   "id": "98403b29-bae8-4972-ba6b-f81af5616aca",
   "metadata": {},
   "outputs": [
    {
     "name": "stdout",
     "output_type": "stream",
     "text": [
      "Naive Bayes Accuracy: 0.8333333333333334\n",
      "Confusion Matrix:\n",
      " [[ 6  6]\n",
      " [ 7 59]]\n",
      "Classification Report:\n",
      "               precision    recall  f1-score   support\n",
      "\n",
      "           0       0.46      0.50      0.48        12\n",
      "           1       0.91      0.89      0.90        66\n",
      "\n",
      "    accuracy                           0.83        78\n",
      "   macro avg       0.68      0.70      0.69        78\n",
      "weighted avg       0.84      0.83      0.84        78\n",
      "\n"
     ]
    }
   ],
   "source": [
    "from sklearn.naive_bayes import GaussianNB\n",
    "from sklearn.metrics import accuracy_score, classification_report, confusion_matrix\n",
    "\n",
    "nb = GaussianNB()\n",
    "nb.fit(X_train, y_train)\n",
    "y_pred_nb = nb.predict(X_test)\n",
    "\n",
    "print(\"Naive Bayes Accuracy:\", accuracy_score(y_test, y_pred_nb))\n",
    "print(\"Confusion Matrix:\\n\", confusion_matrix(y_test, y_pred_nb))\n",
    "print(\"Classification Report:\\n\", classification_report(y_test, y_pred_nb))\n"
   ]
  },
  {
   "cell_type": "markdown",
   "id": "c436f057-fc12-4368-b4ea-755c3ef690fa",
   "metadata": {},
   "source": [
    "# SVM"
   ]
  },
  {
   "cell_type": "code",
   "execution_count": 25,
   "id": "0c04fe17-9a92-469b-91b9-d40ed6e2658e",
   "metadata": {},
   "outputs": [
    {
     "name": "stdout",
     "output_type": "stream",
     "text": [
      "SVM Accuracy: 0.8461538461538461\n",
      "Confusion Matrix:\n",
      " [[ 0 12]\n",
      " [ 0 66]]\n",
      "Classification Report:\n",
      "               precision    recall  f1-score   support\n",
      "\n",
      "           0       0.00      0.00      0.00        12\n",
      "           1       0.85      1.00      0.92        66\n",
      "\n",
      "    accuracy                           0.85        78\n",
      "   macro avg       0.42      0.50      0.46        78\n",
      "weighted avg       0.72      0.85      0.78        78\n",
      "\n"
     ]
    }
   ],
   "source": [
    "#kernel=rbf\n",
    "from sklearn.svm import SVC\n",
    "\n",
    "svm_rbf = SVC(kernel='rbf', random_state=42)  # 'rbf' is good for non-linear problems\n",
    "svm_rbf.fit(X_train, y_train)\n",
    "\n",
    "y_pred_svm = svm_rbf.predict(X_test)\n",
    "\n",
    "print(\"SVM Accuracy:\", accuracy_score(y_test, y_pred_svm))\n",
    "print(\"Confusion Matrix:\\n\", confusion_matrix(y_test, y_pred_svm))\n",
    "print(\"Classification Report:\\n\", classification_report(y_test, y_pred_svm, zero_division=0))"
   ]
  },
  {
   "cell_type": "markdown",
   "id": "7959fc9c-420e-47ad-9f68-300533f9a25c",
   "metadata": {},
   "source": [
    "# Decision Tree"
   ]
  },
  {
   "cell_type": "code",
   "execution_count": 27,
   "id": "e5f37ccf-bb23-4a73-b3c0-21f2293e0269",
   "metadata": {},
   "outputs": [
    {
     "name": "stdout",
     "output_type": "stream",
     "text": [
      "Decision Tree Accuracy: 0.8589743589743589\n",
      "Confusion Matrix:\n",
      " [[ 7  5]\n",
      " [ 6 60]]\n",
      "Classification Report:\n",
      "               precision    recall  f1-score   support\n",
      "\n",
      "           0       0.54      0.58      0.56        12\n",
      "           1       0.92      0.91      0.92        66\n",
      "\n",
      "    accuracy                           0.86        78\n",
      "   macro avg       0.73      0.75      0.74        78\n",
      "weighted avg       0.86      0.86      0.86        78\n",
      "\n"
     ]
    }
   ],
   "source": [
    "from sklearn.tree import DecisionTreeClassifier\n",
    "\n",
    "dt = DecisionTreeClassifier(random_state=42)\n",
    "dt.fit(X_train, y_train)\n",
    "y_pred_dt = dt.predict(X_test)\n",
    "\n",
    "print(\"Decision Tree Accuracy:\", accuracy_score(y_test, y_pred_dt))\n",
    "print(\"Confusion Matrix:\\n\", confusion_matrix(y_test, y_pred_dt))\n",
    "print(\"Classification Report:\\n\", classification_report(y_test, y_pred_dt))"
   ]
  },
  {
   "cell_type": "markdown",
   "id": "d80b7028-b48f-48fc-9596-b8a81a53f27a",
   "metadata": {},
   "source": [
    "# Random Forest"
   ]
  },
  {
   "cell_type": "code",
   "execution_count": 28,
   "id": "2248a4d4-decd-496d-afcd-b5ee5690b878",
   "metadata": {},
   "outputs": [
    {
     "name": "stdout",
     "output_type": "stream",
     "text": [
      "Random Forest Accuracy: 0.8846153846153846\n",
      "Confusion Matrix:\n",
      " [[ 7  5]\n",
      " [ 4 62]]\n",
      "Classification Report:\n",
      "               precision    recall  f1-score   support\n",
      "\n",
      "           0       0.64      0.58      0.61        12\n",
      "           1       0.93      0.94      0.93        66\n",
      "\n",
      "    accuracy                           0.88        78\n",
      "   macro avg       0.78      0.76      0.77        78\n",
      "weighted avg       0.88      0.88      0.88        78\n",
      "\n"
     ]
    }
   ],
   "source": [
    "from sklearn.ensemble import RandomForestClassifier\n",
    "\n",
    "rf = RandomForestClassifier(random_state=42)\n",
    "rf.fit(X_train, y_train)\n",
    "y_pred_rf = rf.predict(X_test)\n",
    "\n",
    "print(\"Random Forest Accuracy:\", accuracy_score(y_test, y_pred_rf))\n",
    "print(\"Confusion Matrix:\\n\", confusion_matrix(y_test, y_pred_rf))\n",
    "print(\"Classification Report:\\n\", classification_report(y_test, y_pred_rf))"
   ]
  },
  {
   "cell_type": "markdown",
   "id": "9e3dd186-a546-475a-b745-af8d5791be29",
   "metadata": {},
   "source": [
    "# Adaboost"
   ]
  },
  {
   "cell_type": "code",
   "execution_count": 29,
   "id": "5ace9156-742a-4867-bbfc-d455ba640bbb",
   "metadata": {},
   "outputs": [
    {
     "name": "stdout",
     "output_type": "stream",
     "text": [
      "AdaBoost Accuracy: 0.8717948717948718\n",
      "Confusion Matrix:\n",
      " [[ 5  7]\n",
      " [ 3 63]]\n",
      "Classification Report:\n",
      "               precision    recall  f1-score   support\n",
      "\n",
      "           0       0.62      0.42      0.50        12\n",
      "           1       0.90      0.95      0.93        66\n",
      "\n",
      "    accuracy                           0.87        78\n",
      "   macro avg       0.76      0.69      0.71        78\n",
      "weighted avg       0.86      0.87      0.86        78\n",
      "\n"
     ]
    }
   ],
   "source": [
    "from sklearn.ensemble import AdaBoostClassifier\n",
    "\n",
    "ada = AdaBoostClassifier(n_estimators=100, random_state=42)\n",
    "ada.fit(X_train, y_train)\n",
    "y_pred_ada = ada.predict(X_test)\n",
    "\n",
    "print(\"AdaBoost Accuracy:\", accuracy_score(y_test, y_pred_ada))\n",
    "print(\"Confusion Matrix:\\n\", confusion_matrix(y_test, y_pred_ada))\n",
    "print(\"Classification Report:\\n\", classification_report(y_test, y_pred_ada))\n"
   ]
  },
  {
   "cell_type": "markdown",
   "id": "43edd121-2a09-4db4-92e4-02bd0fadc5b1",
   "metadata": {},
   "source": [
    "# Hyperparameter tuning with GridSearchCv"
   ]
  },
  {
   "cell_type": "code",
   "execution_count": 30,
   "id": "78db3228-efda-4468-bd73-704497e99c1b",
   "metadata": {},
   "outputs": [
    {
     "name": "stdout",
     "output_type": "stream",
     "text": [
      "Best XGB Parameters: {'learning_rate': 0.2, 'max_depth': 7, 'n_estimators': 100}\n",
      "Best CV Score: 0.8903225806451612\n"
     ]
    }
   ],
   "source": [
    "from sklearn.model_selection import GridSearchCV\n",
    "from xgboost import XGBClassifier\n",
    "params = {\n",
    "    'n_estimators': [50, 100, 200],\n",
    "    'learning_rate': [0.01, 0.1, 0.2],\n",
    "    'max_depth': [3, 5, 7]\n",
    "}\n",
    "\n",
    "grid = GridSearchCV(XGBClassifier(eval_metric='logloss'), param_grid=params, cv=5)\n",
    "grid.fit(X_train, y_train)\n",
    "\n",
    "print(\"Best XGB Parameters:\", grid.best_params_)\n",
    "print(\"Best CV Score:\", grid.best_score_)"
   ]
  },
  {
   "cell_type": "markdown",
   "id": "48d731e2-fec4-4299-b7ad-9756e90a14fb",
   "metadata": {},
   "source": [
    "# XGBoost"
   ]
  },
  {
   "cell_type": "code",
   "execution_count": 33,
   "id": "e497a706-58c9-415d-a4a5-ce27a42a8707",
   "metadata": {},
   "outputs": [
    {
     "name": "stdout",
     "output_type": "stream",
     "text": [
      "Final XGBoost Accuracy: 0.8846153846153846\n",
      "Confusion Matrix:\n",
      " [[ 9  3]\n",
      " [ 6 60]]\n",
      "Classification Report:\n",
      "               precision    recall  f1-score   support\n",
      "\n",
      "           0       0.60      0.75      0.67        12\n",
      "           1       0.95      0.91      0.93        66\n",
      "\n",
      "    accuracy                           0.88        78\n",
      "   macro avg       0.78      0.83      0.80        78\n",
      "weighted avg       0.90      0.88      0.89        78\n",
      "\n"
     ]
    }
   ],
   "source": [
    "from xgboost import XGBClassifier\n",
    "from sklearn.metrics import accuracy_score, classification_report, confusion_matrix\n",
    "\n",
    "best_xgb = XGBClassifier(\n",
    "    learning_rate=0.2,\n",
    "    max_depth=7,\n",
    "    n_estimators=100,\n",
    "    eval_metric='logloss',\n",
    "    random_state=42\n",
    ")\n",
    "\n",
    "best_xgb.fit(X_train, y_train)\n",
    "y_pred_best_xgb = best_xgb.predict(X_test)\n",
    "\n",
    "print(\"Final XGBoost Accuracy:\", accuracy_score(y_test, y_pred_best_xgb))\n",
    "print(\"Confusion Matrix:\\n\", confusion_matrix(y_test, y_pred_best_xgb))\n",
    "print(\"Classification Report:\\n\", classification_report(y_test, y_pred_best_xgb))\n"
   ]
  },
  {
   "cell_type": "markdown",
   "id": "26f7ecb2-a005-4915-870a-b871b00ee58f",
   "metadata": {},
   "source": [
    "# ANN"
   ]
  },
  {
   "cell_type": "code",
   "execution_count": 39,
   "id": "a99a17b6-0f18-4cba-ba00-724b739fd720",
   "metadata": {},
   "outputs": [
    {
     "name": "stdout",
     "output_type": "stream",
     "text": [
      "Epoch 1/30\n",
      "\u001b[1m8/8\u001b[0m \u001b[32m━━━━━━━━━━━━━━━━━━━━\u001b[0m\u001b[37m\u001b[0m \u001b[1m1s\u001b[0m 33ms/step - accuracy: 0.6394 - loss: 17432.6250 - val_accuracy: 0.2419 - val_loss: 957.0676\n",
      "Epoch 2/30\n",
      "\u001b[1m8/8\u001b[0m \u001b[32m━━━━━━━━━━━━━━━━━━━━\u001b[0m\u001b[37m\u001b[0m \u001b[1m0s\u001b[0m 11ms/step - accuracy: 0.5845 - loss: 2632.5652 - val_accuracy: 0.7581 - val_loss: 4667.8335\n",
      "Epoch 3/30\n",
      "\u001b[1m8/8\u001b[0m \u001b[32m━━━━━━━━━━━━━━━━━━━━\u001b[0m\u001b[37m\u001b[0m \u001b[1m0s\u001b[0m 11ms/step - accuracy: 0.6726 - loss: 3491.5671 - val_accuracy: 0.7581 - val_loss: 226.7292\n",
      "Epoch 4/30\n",
      "\u001b[1m8/8\u001b[0m \u001b[32m━━━━━━━━━━━━━━━━━━━━\u001b[0m\u001b[37m\u001b[0m \u001b[1m0s\u001b[0m 12ms/step - accuracy: 0.7283 - loss: 791.7094 - val_accuracy: 0.2419 - val_loss: 167.4817\n",
      "Epoch 5/30\n",
      "\u001b[1m8/8\u001b[0m \u001b[32m━━━━━━━━━━━━━━━━━━━━\u001b[0m\u001b[37m\u001b[0m \u001b[1m0s\u001b[0m 16ms/step - accuracy: 0.6088 - loss: 726.8734 - val_accuracy: 0.2419 - val_loss: 2076.6633\n",
      "Epoch 6/30\n",
      "\u001b[1m8/8\u001b[0m \u001b[32m━━━━━━━━━━━━━━━━━━━━\u001b[0m\u001b[37m\u001b[0m \u001b[1m0s\u001b[0m 12ms/step - accuracy: 0.4633 - loss: 1223.0388 - val_accuracy: 0.7581 - val_loss: 24.9162\n",
      "Epoch 7/30\n",
      "\u001b[1m8/8\u001b[0m \u001b[32m━━━━━━━━━━━━━━━━━━━━\u001b[0m\u001b[37m\u001b[0m \u001b[1m0s\u001b[0m 11ms/step - accuracy: 0.6820 - loss: 245.9138 - val_accuracy: 0.2419 - val_loss: 1728.1194\n",
      "Epoch 8/30\n",
      "\u001b[1m8/8\u001b[0m \u001b[32m━━━━━━━━━━━━━━━━━━━━\u001b[0m\u001b[37m\u001b[0m \u001b[1m0s\u001b[0m 10ms/step - accuracy: 0.4664 - loss: 1297.4106 - val_accuracy: 0.7581 - val_loss: 63.7754\n",
      "Epoch 9/30\n",
      "\u001b[1m8/8\u001b[0m \u001b[32m━━━━━━━━━━━━━━━━━━━━\u001b[0m\u001b[37m\u001b[0m \u001b[1m0s\u001b[0m 11ms/step - accuracy: 0.5418 - loss: 1198.3291 - val_accuracy: 0.7581 - val_loss: 2354.9082\n",
      "Epoch 10/30\n",
      "\u001b[1m8/8\u001b[0m \u001b[32m━━━━━━━━━━━━━━━━━━━━\u001b[0m\u001b[37m\u001b[0m \u001b[1m0s\u001b[0m 10ms/step - accuracy: 0.7407 - loss: 1801.4257 - val_accuracy: 0.2419 - val_loss: 1810.2545\n",
      "Epoch 11/30\n",
      "\u001b[1m8/8\u001b[0m \u001b[32m━━━━━━━━━━━━━━━━━━━━\u001b[0m\u001b[37m\u001b[0m \u001b[1m0s\u001b[0m 10ms/step - accuracy: 0.5894 - loss: 1407.6433 - val_accuracy: 0.7581 - val_loss: 583.1802\n",
      "Epoch 12/30\n",
      "\u001b[1m8/8\u001b[0m \u001b[32m━━━━━━━━━━━━━━━━━━━━\u001b[0m\u001b[37m\u001b[0m \u001b[1m0s\u001b[0m 10ms/step - accuracy: 0.5772 - loss: 407.5421 - val_accuracy: 0.7581 - val_loss: 114.7650\n",
      "Epoch 13/30\n",
      "\u001b[1m8/8\u001b[0m \u001b[32m━━━━━━━━━━━━━━━━━━━━\u001b[0m\u001b[37m\u001b[0m \u001b[1m0s\u001b[0m 10ms/step - accuracy: 0.5487 - loss: 849.0479 - val_accuracy: 0.7581 - val_loss: 728.0002\n",
      "Epoch 14/30\n",
      "\u001b[1m8/8\u001b[0m \u001b[32m━━━━━━━━━━━━━━━━━━━━\u001b[0m\u001b[37m\u001b[0m \u001b[1m0s\u001b[0m 10ms/step - accuracy: 0.6329 - loss: 861.7104 - val_accuracy: 0.7581 - val_loss: 2507.4604\n",
      "Epoch 15/30\n",
      "\u001b[1m8/8\u001b[0m \u001b[32m━━━━━━━━━━━━━━━━━━━━\u001b[0m\u001b[37m\u001b[0m \u001b[1m0s\u001b[0m 11ms/step - accuracy: 0.7602 - loss: 2052.4417 - val_accuracy: 0.2419 - val_loss: 2480.2441\n",
      "Epoch 16/30\n",
      "\u001b[1m8/8\u001b[0m \u001b[32m━━━━━━━━━━━━━━━━━━━━\u001b[0m\u001b[37m\u001b[0m \u001b[1m0s\u001b[0m 10ms/step - accuracy: 0.4926 - loss: 1628.9512 - val_accuracy: 0.7581 - val_loss: 1407.2930\n",
      "Epoch 17/30\n",
      "\u001b[1m8/8\u001b[0m \u001b[32m━━━━━━━━━━━━━━━━━━━━\u001b[0m\u001b[37m\u001b[0m \u001b[1m0s\u001b[0m 11ms/step - accuracy: 0.5980 - loss: 1518.8928 - val_accuracy: 0.7581 - val_loss: 1987.8342\n",
      "Epoch 18/30\n",
      "\u001b[1m8/8\u001b[0m \u001b[32m━━━━━━━━━━━━━━━━━━━━\u001b[0m\u001b[37m\u001b[0m \u001b[1m0s\u001b[0m 11ms/step - accuracy: 0.7405 - loss: 1946.9744 - val_accuracy: 0.2419 - val_loss: 1998.9453\n",
      "Epoch 19/30\n",
      "\u001b[1m8/8\u001b[0m \u001b[32m━━━━━━━━━━━━━━━━━━━━\u001b[0m\u001b[37m\u001b[0m \u001b[1m0s\u001b[0m 10ms/step - accuracy: 0.5477 - loss: 1240.6317 - val_accuracy: 0.7581 - val_loss: 1645.5975\n",
      "Epoch 20/30\n",
      "\u001b[1m8/8\u001b[0m \u001b[32m━━━━━━━━━━━━━━━━━━━━\u001b[0m\u001b[37m\u001b[0m \u001b[1m0s\u001b[0m 10ms/step - accuracy: 0.5796 - loss: 1528.3390 - val_accuracy: 0.7581 - val_loss: 2436.9304\n",
      "Epoch 21/30\n",
      "\u001b[1m8/8\u001b[0m \u001b[32m━━━━━━━━━━━━━━━━━━━━\u001b[0m\u001b[37m\u001b[0m \u001b[1m0s\u001b[0m 11ms/step - accuracy: 0.7448 - loss: 2598.3340 - val_accuracy: 0.2419 - val_loss: 955.9537\n",
      "Epoch 22/30\n",
      "\u001b[1m8/8\u001b[0m \u001b[32m━━━━━━━━━━━━━━━━━━━━\u001b[0m\u001b[37m\u001b[0m \u001b[1m0s\u001b[0m 11ms/step - accuracy: 0.4854 - loss: 1071.4260 - val_accuracy: 0.7581 - val_loss: 2065.8489\n",
      "Epoch 23/30\n",
      "\u001b[1m8/8\u001b[0m \u001b[32m━━━━━━━━━━━━━━━━━━━━\u001b[0m\u001b[37m\u001b[0m \u001b[1m0s\u001b[0m 11ms/step - accuracy: 0.6847 - loss: 1361.6851 - val_accuracy: 0.7581 - val_loss: 594.7667\n",
      "Epoch 24/30\n",
      "\u001b[1m8/8\u001b[0m \u001b[32m━━━━━━━━━━━━━━━━━━━━\u001b[0m\u001b[37m\u001b[0m \u001b[1m0s\u001b[0m 11ms/step - accuracy: 0.6683 - loss: 541.1574 - val_accuracy: 0.7581 - val_loss: 1169.1340\n",
      "Epoch 25/30\n",
      "\u001b[1m8/8\u001b[0m \u001b[32m━━━━━━━━━━━━━━━━━━━━\u001b[0m\u001b[37m\u001b[0m \u001b[1m0s\u001b[0m 11ms/step - accuracy: 0.6385 - loss: 1152.9817 - val_accuracy: 0.7581 - val_loss: 708.4113\n",
      "Epoch 26/30\n",
      "\u001b[1m8/8\u001b[0m \u001b[32m━━━━━━━━━━━━━━━━━━━━\u001b[0m\u001b[37m\u001b[0m \u001b[1m0s\u001b[0m 11ms/step - accuracy: 0.5922 - loss: 770.5585 - val_accuracy: 0.7581 - val_loss: 1856.2155\n",
      "Epoch 27/30\n",
      "\u001b[1m8/8\u001b[0m \u001b[32m━━━━━━━━━━━━━━━━━━━━\u001b[0m\u001b[37m\u001b[0m \u001b[1m0s\u001b[0m 10ms/step - accuracy: 0.6559 - loss: 1790.3298 - val_accuracy: 0.7581 - val_loss: 1124.3722\n",
      "Epoch 28/30\n",
      "\u001b[1m8/8\u001b[0m \u001b[32m━━━━━━━━━━━━━━━━━━━━\u001b[0m\u001b[37m\u001b[0m \u001b[1m0s\u001b[0m 11ms/step - accuracy: 0.7880 - loss: 2212.3572 - val_accuracy: 0.7581 - val_loss: 1883.2994\n",
      "Epoch 29/30\n",
      "\u001b[1m8/8\u001b[0m \u001b[32m━━━━━━━━━━━━━━━━━━━━\u001b[0m\u001b[37m\u001b[0m \u001b[1m0s\u001b[0m 11ms/step - accuracy: 0.6175 - loss: 1581.9720 - val_accuracy: 0.7581 - val_loss: 1268.8345\n",
      "Epoch 30/30\n",
      "\u001b[1m8/8\u001b[0m \u001b[32m━━━━━━━━━━━━━━━━━━━━\u001b[0m\u001b[37m\u001b[0m \u001b[1m0s\u001b[0m 12ms/step - accuracy: 0.7403 - loss: 1135.3779 - val_accuracy: 0.7581 - val_loss: 149.5272\n",
      "\u001b[1m3/3\u001b[0m \u001b[32m━━━━━━━━━━━━━━━━━━━━\u001b[0m\u001b[37m\u001b[0m \u001b[1m0s\u001b[0m 41ms/step - accuracy: 0.8606 - loss: 86.1461\n",
      "✅ Test Accuracy: 0.8462\n"
     ]
    }
   ],
   "source": [
    "from tensorflow.keras.models import Sequential\n",
    "from tensorflow.keras.layers import Dense, Input\n",
    "\n",
    "\n",
    "# Build ANN model\n",
    "model = Sequential([\n",
    "    Input(shape=(X_train.shape[1],)),  # Input layer with number of features\n",
    "    Dense(64, activation='relu'),\n",
    "    Dense(32, activation='relu'),\n",
    "    Dense(1, activation='sigmoid')  # Output layer for binary classification\n",
    "])\n",
    "\n",
    "# Compile model\n",
    "model.compile(optimizer='adam',\n",
    "              loss='binary_crossentropy',\n",
    "              metrics=['accuracy'])\n",
    "\n",
    "# Train model\n",
    "model.fit(X_train, y_train, epochs=30, batch_size=32, validation_split=0.2)\n",
    "\n",
    "# Evaluate\n",
    "loss, accuracy = model.evaluate(X_test, y_test)\n",
    "print(f\"✅ Test Accuracy: {accuracy:.4f}\")\n"
   ]
  },
  {
   "cell_type": "code",
   "execution_count": 44,
   "id": "adb82b33-ee97-4bca-a4b6-992cad13d34b",
   "metadata": {},
   "outputs": [
    {
     "data": {
      "image/png": "[encoded data removed]",
      "text/plain": [
       "<Figure size 1000x600 with 1 Axes>"
      ]
     },
     "metadata": {},
     "output_type": "display_data"
    }
   ],
   "source": [
    "\n",
    "import matplotlib.pyplot as plt\n",
    "\n",
    "# Accuracy scores\n",
    "model_names = ['Logistic Regression', 'KNN', 'Naive Bayes','SVM','Decision Tree', 'Random Forest', 'Adaboost', 'XGBoost', 'ANN']\n",
    "accuracy_scores = [0.86, 0.90, 0.83, 0.85, 0.86, 0.88, 0.87, 0.88, 0.84]\n",
    "\n",
    "# Add a color for each model\n",
    "colors = ['skyblue', 'lightgreen', 'orange', 'salmon', 'violet', 'lightcoral', 'gold', 'pink', 'red']\n",
    "\n",
    "# Plotting\n",
    "plt.figure(figsize=(10, 6))\n",
    "bars = plt.bar(model_names, accuracy_scores, color=colors)\n",
    "\n",
    "# Add accuracy labels on top of bars\n",
    "for bar in bars:\n",
    "    yval = bar.get_height()\n",
    "    plt.text(bar.get_x() + bar.get_width()/2, yval + 0.005, f'{yval:.2f}', ha='center', fontsize=12)\n",
    "\n",
    "plt.title('Model Accuracy Comparison', fontsize=16)\n",
    "plt.xlabel('Models', fontsize=14)\n",
    "plt.ylabel('Accuracy Score', fontsize=14)\n",
    "plt.ylim(0.5, 1.0)  # Adjusted to include ANN's score\n",
    "plt.grid(axis='y', linestyle='--', alpha=0.7)\n",
    "plt.tight_layout()\n",
    "plt.show()\n",
    "\n"
   ]
  },
  {
   "cell_type": "markdown",
   "id": "24eca5fd-24e9-46da-aff2-2f41f7a2fc68",
   "metadata": {},
   "source": [
    "The bar graph provides a clear visual representation of the accuracy scores for different machine learning models. KNN stands out as the most accurate model, while Naive Bayes has the lowest accuracy. The graph also highlights the performance of other models, allowing for easy comparison and identification of top-performing models."
   ]
  }
 ],
 "metadata": {
  "kernelspec": {
   "display_name": "Python (tfenv)",
   "language": "python",
   "name": "tfenv"
  },
  "language_info": {
   "codemirror_mode": {
    "name": "ipython",
    "version": 3
   },
   "file_extension": ".py",
   "mimetype": "text/x-python",
   "name": "python",
   "nbconvert_exporter": "python",
   "pygments_lexer": "ipython3",
   "version": "3.10.12"
  }
 },
 "nbformat": 4,
 "nbformat_minor": 5
}
